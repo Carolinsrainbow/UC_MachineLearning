{
  "nbformat": 4,
  "nbformat_minor": 0,
  "metadata": {
    "colab": {
      "provenance": [],
      "authorship_tag": "ABX9TyNzSK9esF4zfaVy+IoC+oLJ",
      "include_colab_link": true
    },
    "kernelspec": {
      "name": "python3",
      "display_name": "Python 3"
    },
    "language_info": {
      "name": "python"
    }
  },
  "cells": [
    {
      "cell_type": "markdown",
      "metadata": {
        "id": "view-in-github",
        "colab_type": "text"
      },
      "source": [
        "<a href=\"https://colab.research.google.com/github/Carolinsrainbow/UC_MachineLearning/blob/main/ML_%7C_Trabajo_Final.ipynb\" target=\"_parent\"><img src=\"https://colab.research.google.com/assets/colab-badge.svg\" alt=\"Open In Colab\"/></a>"
      ]
    },
    {
      "cell_type": "markdown",
      "source": [
        "Instrucciones\n",
        "\n",
        "¡Bienvenido(a)!\n",
        "\n",
        "Te invitamos a realizar la siguiente tarea sobre la construcción de modelos de Machine Learning usando datos reales.\n",
        "\n",
        "- Objetivo: Construir un sistema completo de Machine Learning, utilizando las técnicas discutidas en el curso, para solucionar un problema de aprendizaje supervisado, utilizando datos reales.\n",
        "- Tipo de actividad: Grupal\n",
        "- Tipo de evaluación: Sumativa (con calificación)\n",
        "- Ponderación: 25% (Equivale al 25% de la nota final del curso)\n",
        "- Puntaje: 30 puntos\n"
      ],
      "metadata": {
        "id": "BLFOvdqEQANS"
      }
    }
  ]
}