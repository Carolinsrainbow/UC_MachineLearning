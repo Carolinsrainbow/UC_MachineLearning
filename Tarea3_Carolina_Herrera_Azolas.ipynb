{
  "nbformat": 4,
  "nbformat_minor": 0,
  "metadata": {
    "colab": {
      "provenance": [],
      "authorship_tag": "ABX9TyOb6xtd1Cdo+felR5bkngQl",
      "include_colab_link": true
    },
    "kernelspec": {
      "name": "python3",
      "display_name": "Python 3"
    },
    "language_info": {
      "name": "python"
    }
  },
  "cells": [
    {
      "cell_type": "markdown",
      "metadata": {
        "id": "view-in-github",
        "colab_type": "text"
      },
      "source": [
        "<a href=\"https://colab.research.google.com/github/Carolinsrainbow/UC_MachineLearning/blob/main/ML_Tarea_3_Carolina_Herrera_Azolas.ipynb\" target=\"_parent\"><img src=\"https://colab.research.google.com/assets/colab-badge.svg\" alt=\"Open In Colab\"/></a>"
      ]
    },
    {
      "cell_type": "markdown",
      "source": [
        "Instrucciones\n",
        "\n",
        "\n",
        "- Tipo de actividad: Individual\n",
        "- Tipo de evaluación: Sumativa (con calificación)\n",
        "- Ponderación: 10%\n",
        "- Puntaje: 30 puntos"
      ],
      "metadata": {
        "id": "n9dVxk4VwCxc"
      }
    },
    {
      "cell_type": "markdown",
      "source": [
        "Instrucciones\n",
        "\n",
        "1. Antes de comenzar, debes haber revisado todo el material de los módulos 1 , 2 y 3 del curso.\n",
        "2. Tomando como ejemplo lo realizado en los tutoriales, en esta tarea utilizarás las funciones de generación de datos de sklearn, como por ejemplo make_blobs, make_moons y make_circles, para crear conjuntos de entrenamiento que se adecuen a distintos modelos.\n",
        "3. Genere múltiples conjuntos de datos (con sus respectivos subconjuntos de entrenamiento y prueba) y entrene sobre ellos al menos los siguientes tipos de modelo: SVM con kernel lineal, SVM con kernel RBF, SVM con kernel polinomial, SVM con kernel sigmoidal, MLP de 2 capas ocultas.\n",
        "4. Para cada tipo de modelo, encuentre al menos un conjunto de datos donde este obtiene el mejor rendimiento de entre todos los modelos evaluados.\n",
        "5. Para cada caso, explique el motivo por el cual el modelo ganador obtiene el mejor rendimiento. Utilice visualizaciones similares a las vistas en los tutoriales para justificar sus respuestas."
      ],
      "metadata": {
        "id": "tsGZqD9D2zTz"
      }
    }
  ]
}
