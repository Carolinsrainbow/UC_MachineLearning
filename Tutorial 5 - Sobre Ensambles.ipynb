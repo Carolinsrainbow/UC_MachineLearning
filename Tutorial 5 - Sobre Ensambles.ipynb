{
 "cells": [
  {
   "cell_type": "markdown",
   "metadata": {},
   "source": [
    "## Tutorial sobre ensambles"
   ]
  },
  {
   "cell_type": "markdown",
   "metadata": {},
   "source": [
    "### Configuración gráfica inicial para visualizaciones"
   ]
  },
  {
   "cell_type": "code",
   "execution_count": null,
   "metadata": {
    "colab": {},
    "colab_type": "code",
    "id": "WdBaknV4qoRL"
   },
   "outputs": [],
   "source": [
    "%matplotlib inline\n",
    "import matplotlib.pyplot as plt\n",
    "import seaborn as sns; sns.set()"
   ]
  },
  {
   "cell_type": "code",
   "execution_count": null,
   "metadata": {
    "colab": {},
    "colab_type": "code",
    "id": "3hvFByxU_LTd"
   },
   "outputs": [],
   "source": [
    "plt.rcParams['figure.figsize'] = [12, 8]\n",
    "plt.rcParams.update({'font.size': 14})"
   ]
  },
  {
   "cell_type": "markdown",
   "metadata": {},
   "source": [
    "### Generación de conjuntos de datos"
   ]
  },
  {
   "cell_type": "code",
   "execution_count": null,
   "metadata": {
    "colab": {},
    "colab_type": "code",
    "id": "51-7zqOQqoRP"
   },
   "outputs": [],
   "source": [
    "from sklearn import datasets\n",
    "\n",
    "X, Y = datasets.make_blobs(n_samples=1000, centers=5, random_state=0, cluster_std=1.5)\n",
    "plt.scatter(X[:, 0], X[:, 1], c=Y, s=50, cmap='rainbow');"
   ]
  },
  {
   "cell_type": "code",
   "execution_count": null,
   "metadata": {
    "colab": {},
    "colab_type": "code",
    "id": "ygjcGROxxiwB"
   },
   "outputs": [],
   "source": [
    "from sklearn.model_selection import train_test_split\n",
    "\n",
    "X_train, X_test, Y_train, Y_test = train_test_split(X, Y, test_size=0.3, random_state=0)\n",
    "plt.scatter(X_train[:, 0], X_train[:, 1], c=Y_train, s=50, cmap='rainbow');"
   ]
  },
  {
   "cell_type": "code",
   "execution_count": null,
   "metadata": {
    "colab": {},
    "colab_type": "code",
    "id": "YSZu3p7byYAF"
   },
   "outputs": [],
   "source": [
    "plt.scatter(X_test[:, 0], X_test[:, 1], c=Y_test, s=50, cmap='rainbow');"
   ]
  },
  {
   "cell_type": "markdown",
   "metadata": {},
   "source": [
    "### Visualizador de superficies de decisión"
   ]
  },
  {
   "cell_type": "code",
   "execution_count": null,
   "metadata": {
    "colab": {},
    "colab_type": "code",
    "id": "Ivs3DRMCqoRT"
   },
   "outputs": [],
   "source": [
    "import numpy as np\n",
    "\n",
    "def visualize_classifier(model, X, Y, ax=None, cmap='rainbow'):\n",
    "  ax = ax or plt.gca()\n",
    "  ax.scatter(X[:, 0], X[:, 1], c=Y, s=30, cmap=cmap, clim=(Y.min(), Y.max()), zorder=3)\n",
    "  ax.axis('tight')\n",
    "  ax.axis('off')\n",
    "  xlim = ax.get_xlim()\n",
    "  ylim = ax.get_ylim()\n",
    "  xx, yy = np.meshgrid(np.linspace(*xlim, num=200), np.linspace(*ylim, num=200))\n",
    "  Z = model.predict(np.c_[xx.ravel(), yy.ravel()]).reshape(xx.shape)\n",
    "  n_classes = len(np.unique(Y))\n",
    "  contours = ax.contourf(xx, yy, Z, alpha=0.3, levels=np.arange(n_classes + 1) - 0.5, cmap=cmap, zorder=1)\n",
    "  ax.set(xlim=xlim, ylim=ylim)"
   ]
  },
  {
   "cell_type": "markdown",
   "metadata": {},
   "source": [
    "### Entrenamiento y evaluación de clasificadores"
   ]
  },
  {
   "cell_type": "code",
   "execution_count": null,
   "metadata": {},
   "outputs": [],
   "source": [
    "from sklearn import metrics\n",
    "\n",
    "def train_and_eval(model, X_train, Y_train, X_test, Y_test):\n",
    "    model.fit(X_train, Y_train)\n",
    "    predicted = model.predict(X_test)\n",
    "    print(f'Accuracy: {metrics.accuracy_score(Y_test, predicted):.2f}')"
   ]
  },
  {
   "cell_type": "markdown",
   "metadata": {},
   "source": [
    "**1. Árbol de decisión**"
   ]
  },
  {
   "cell_type": "code",
   "execution_count": null,
   "metadata": {
    "colab": {},
    "colab_type": "code",
    "id": "B9Y0ylxmqoRW"
   },
   "outputs": [],
   "source": [
    "from sklearn.tree import DecisionTreeClassifier\n",
    "\n",
    "tree = DecisionTreeClassifier()\n",
    "train_and_eval(tree, X_train, Y_train, X_test, Y_test)\n",
    "visualize_classifier(tree, X_train, Y_train)"
   ]
  },
  {
   "cell_type": "markdown",
   "metadata": {},
   "source": [
    "**2. Random Forest**"
   ]
  },
  {
   "cell_type": "code",
   "execution_count": null,
   "metadata": {
    "colab": {},
    "colab_type": "code",
    "id": "UNqM1pZHqoRb"
   },
   "outputs": [],
   "source": [
    "from sklearn.ensemble import RandomForestClassifier\n",
    "\n",
    "forest = RandomForestClassifier(random_state=0)\n",
    "train_and_eval(forest, X_train, Y_train, X_test, Y_test)\n",
    "visualize_classifier(forest, X_train, Y_train);"
   ]
  },
  {
   "cell_type": "markdown",
   "metadata": {},
   "source": [
    "**3. Gradient Boosting**"
   ]
  },
  {
   "cell_type": "code",
   "execution_count": null,
   "metadata": {
    "colab": {},
    "colab_type": "code",
    "id": "lLS-reVSqoRe"
   },
   "outputs": [],
   "source": [
    "from sklearn.ensemble import GradientBoostingClassifier\n",
    "\n",
    "grad_boosting = GradientBoostingClassifier(random_state=0)\n",
    "train_and_eval(grad_boosting, X_train, Y_train, X_test, Y_test)\n",
    "visualize_classifier(grad_boosting, X_train, Y_train)"
   ]
  },
  {
   "cell_type": "markdown",
   "metadata": {},
   "source": [
    "**4. ¿Bagging con k-NN? Por supuesto**"
   ]
  },
  {
   "cell_type": "code",
   "execution_count": null,
   "metadata": {
    "colab": {},
    "colab_type": "code",
    "id": "NOc0jDSfqoRZ"
   },
   "outputs": [],
   "source": [
    "from sklearn.ensemble import BaggingClassifier\n",
    "from sklearn.neighbors import KNeighborsClassifier\n",
    "\n",
    "knn = KNeighborsClassifier()\n",
    "bagging = BaggingClassifier(knn, random_state=0)\n",
    "train_and_eval(bagging, X_train, Y_train, X_test, Y_test)\n",
    "visualize_classifier(bagging, X_train, Y_train)"
   ]
  },
  {
   "cell_type": "markdown",
   "metadata": {
    "colab_type": "text",
    "id": "mCjbN4xNGHTy"
   },
   "source": [
    "### ¿Cómo podemos encontrar la mejor combinación de parámetros para estos ensambles?"
   ]
  },
  {
   "cell_type": "code",
   "execution_count": null,
   "metadata": {},
   "outputs": [],
   "source": [
    "from sklearn.model_selection import GridSearchCV\n",
    "\n",
    "forest_hyperparameters = [{'n_estimators': [10,50,100],'max_depth': [1,2,5]}]\n",
    "forest = GridSearchCV(RandomForestClassifier(random_state=0), forest_hyperparameters)\n",
    "train_and_eval(forest, X_train, Y_train, X_test, Y_test)\n",
    "visualize_classifier(forest, X_train, Y_train)"
   ]
  },
  {
   "cell_type": "code",
   "execution_count": null,
   "metadata": {
    "colab": {},
    "colab_type": "code",
    "id": "UL8c6hN6HzeD"
   },
   "outputs": [],
   "source": [
    "grad_boosting_hyperparameters = [{'n_estimators': [10,50,100],'max_depth': [1,2,5]}]\n",
    "grad_boosting = GridSearchCV(GradientBoostingClassifier(random_state=0), grad_boosting_hyperparameters)\n",
    "train_and_eval(grad_boosting, X_train, Y_train, X_test, Y_test)\n",
    "visualize_classifier(grad_boosting, X_train, Y_train)"
   ]
  },
  {
   "cell_type": "code",
   "execution_count": null,
   "metadata": {
    "colab": {},
    "colab_type": "code",
    "id": "7TNGtHjWHGc2"
   },
   "outputs": [],
   "source": [
    "bagging_hyperparameters = [{'n_estimators': [10, 50, 100], 'base_estimator__n_neighbors':[1,2,3,5]}]\n",
    "knn = KNeighborsClassifier()\n",
    "bagging = GridSearchCV(BaggingClassifier(knn, max_samples=0.1, random_state=0), bagging_hyperparameters)\n",
    "train_and_eval(bagging, X_train, Y_train, X_test, Y_test)\n",
    "visualize_classifier(bagging, X_train, Y_train)"
   ]
  },
  {
   "cell_type": "markdown",
   "metadata": {},
   "source": [
    "### Algunas conclusiones\n",
    "* Implementar y entrenar ensambles en scikit-learn es fácil y rápido\n",
    "* Los ensambles mejoran el rendimiento de los clasificadores simples, en la gran mayoría de los casos\n",
    "* Nunca descartar k-NN"
   ]
  }
 ],
 "metadata": {
  "anaconda-cloud": {},
  "colab": {
   "collapsed_sections": [],
   "name": "04 - trees_and_ensembles.ipynb",
   "provenance": []
  },
  "kernelspec": {
   "display_name": "Python 3",
   "language": "python",
   "name": "python3"
  },
  "language_info": {
   "codemirror_mode": {
    "name": "ipython",
    "version": 3
   },
   "file_extension": ".py",
   "mimetype": "text/x-python",
   "name": "python",
   "nbconvert_exporter": "python",
   "pygments_lexer": "ipython3",
   "version": "3.8.6"
  }
 },
 "nbformat": 4,
 "nbformat_minor": 4
}
